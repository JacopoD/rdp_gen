{
 "cells": [
  {
   "cell_type": "code",
   "execution_count": 63,
   "id": "fcb77226",
   "metadata": {},
   "outputs": [
    {
     "data": {
      "text/plain": [
       "array([4.3500000e+02, 1.4100000e+02, 5.0000000e+02, ..., 2.4773135e-01,\n",
       "       1.9655062e-01, 1.1150650e-01])"
      ]
     },
     "execution_count": 63,
     "metadata": {},
     "output_type": "execute_result"
    }
   ],
   "source": [
    "import pandas as pd\n",
    "import numpy as np\n",
    "\n",
    "file = pd.read_csv(\"/Users/jdv/Desktop/ui_test_1E_wseSTRICT.csv\")\n",
    "file2 = pd.read_csv(\"/Users/jdv/Desktop/ui_test_1E_wseFREE.csv\")\n",
    "y1 = np.array(file[\"ok\"].values)\n",
    "y2 = np.array(file2[\"ok\"].values)\n",
    "# file\n",
    "\n",
    "X1 = [file[\"n_samples\"].values, file[\"ellipse_area\"].values, file[\"wse_background\"].values, file[\"ellipse_wse\"].values]\n",
    "X2 = np.array([file2[\"n_samples\"].values, file2[\"ellipse_area\"].values, file2[\"wse_background\"].values, file2[\"ellipse_wse\"].values])\n",
    "# x\n",
    "len(X1)\n",
    "y = np.append(y1,y2)\n",
    "X = np.append(X1,X2)\n",
    "# np.rot90(X1)\n",
    "# X = np.rot90(X)\n",
    "X\n"
   ]
  },
  {
   "cell_type": "code",
   "execution_count": 47,
   "id": "277b114b",
   "metadata": {},
   "outputs": [
    {
     "ename": "IndexError",
     "evalue": "too many indices for array: array is 1-dimensional, but 2 were indexed",
     "output_type": "error",
     "traceback": [
      "\u001b[0;31m---------------------------------------------------------------------------\u001b[0m",
      "\u001b[0;31mIndexError\u001b[0m                                Traceback (most recent call last)",
      "Input \u001b[0;32mIn [47]\u001b[0m, in \u001b[0;36m<cell line: 13>\u001b[0;34m()\u001b[0m\n\u001b[1;32m     11\u001b[0m feature_names \u001b[38;5;241m=\u001b[39m [\u001b[38;5;124m\"\u001b[39m\u001b[38;5;124mn_samples\u001b[39m\u001b[38;5;124m\"\u001b[39m,\u001b[38;5;124m\"\u001b[39m\u001b[38;5;124mellipse_area\u001b[39m\u001b[38;5;124m\"\u001b[39m,\u001b[38;5;124m\"\u001b[39m\u001b[38;5;124mwse_background\u001b[39m\u001b[38;5;124m\"\u001b[39m,\u001b[38;5;124m\"\u001b[39m\u001b[38;5;124mellipse_wse\u001b[39m\u001b[38;5;124m\"\u001b[39m]\n\u001b[1;32m     13\u001b[0m \u001b[38;5;28;01mfor\u001b[39;00m pairidx, pair \u001b[38;5;129;01min\u001b[39;00m \u001b[38;5;28menumerate\u001b[39m([[\u001b[38;5;241m0\u001b[39m, \u001b[38;5;241m1\u001b[39m], [\u001b[38;5;241m0\u001b[39m, \u001b[38;5;241m2\u001b[39m], [\u001b[38;5;241m0\u001b[39m, \u001b[38;5;241m3\u001b[39m],\n\u001b[1;32m     14\u001b[0m                                 [\u001b[38;5;241m1\u001b[39m, \u001b[38;5;241m2\u001b[39m], [\u001b[38;5;241m1\u001b[39m, \u001b[38;5;241m3\u001b[39m], [\u001b[38;5;241m2\u001b[39m, \u001b[38;5;241m3\u001b[39m]]):\n\u001b[0;32m---> 15\u001b[0m     X_train, X_test, y_train, y_test \u001b[38;5;241m=\u001b[39m train_test_split(\u001b[43mX\u001b[49m\u001b[43m[\u001b[49m\u001b[43m:\u001b[49m\u001b[43m,\u001b[49m\u001b[43m \u001b[49m\u001b[43mpair\u001b[49m\u001b[43m]\u001b[49m, y, stratify\u001b[38;5;241m=\u001b[39my, random_state\u001b[38;5;241m=\u001b[39m\u001b[38;5;241m42\u001b[39m, test_size\u001b[38;5;241m=\u001b[39m\u001b[38;5;241m0.25\u001b[39m)\n\u001b[1;32m     16\u001b[0m     x_min, x_max \u001b[38;5;241m=\u001b[39m X[:, pair[\u001b[38;5;241m0\u001b[39m]]\u001b[38;5;241m.\u001b[39mmin() \u001b[38;5;241m-\u001b[39m \u001b[38;5;241m0.5\u001b[39m, X[:, pair[\u001b[38;5;241m0\u001b[39m]]\u001b[38;5;241m.\u001b[39mmax() \u001b[38;5;241m+\u001b[39m \u001b[38;5;241m0.5\u001b[39m\n\u001b[1;32m     17\u001b[0m     y_min, y_max \u001b[38;5;241m=\u001b[39m X[:, pair[\u001b[38;5;241m1\u001b[39m]]\u001b[38;5;241m.\u001b[39mmin() \u001b[38;5;241m-\u001b[39m \u001b[38;5;241m0.5\u001b[39m, X[:, pair[\u001b[38;5;241m1\u001b[39m]]\u001b[38;5;241m.\u001b[39mmax() \u001b[38;5;241m+\u001b[39m \u001b[38;5;241m0.5\u001b[39m\n",
      "\u001b[0;31mIndexError\u001b[0m: too many indices for array: array is 1-dimensional, but 2 were indexed"
     ]
    },
    {
     "data": {
      "text/plain": [
       "<Figure size 864x1296 with 0 Axes>"
      ]
     },
     "metadata": {},
     "output_type": "display_data"
    }
   ],
   "source": [
    "from sklearn.inspection import DecisionBoundaryDisplay\n",
    "from matplotlib.colors import ListedColormap\n",
    "import matplotlib.pyplot as plt\n",
    "from sklearn.model_selection import train_test_split\n",
    "from sklearn.tree import DecisionTreeClassifier\n",
    "\n",
    "figure = plt.figure(figsize=(6 * 2, 6* 3))\n",
    "cm = plt.cm.RdBu\n",
    "cm_bright = ListedColormap([\"#FF0000\", \"#0000FF\"])\n",
    "\n",
    "feature_names = [\"n_samples\",\"ellipse_area\",\"wse_background\",\"ellipse_wse\"]\n",
    "\n",
    "for pairidx, pair in enumerate([[0, 1], [0, 2], [0, 3],\n",
    "                                [1, 2], [1, 3], [2, 3]]):\n",
    "    X_train, X_test, y_train, y_test = train_test_split(X[:, pair], y, stratify=y, random_state=42, test_size=0.25)\n",
    "    x_min, x_max = X[:, pair[0]].min() - 0.5, X[:, pair[0]].max() + 0.5\n",
    "    y_min, y_max = X[:, pair[1]].min() - 0.5, X[:, pair[1]].max() + 0.5\n",
    "    ax = plt.subplot(3, 2, pairidx + 1)\n",
    "    forest = DecisionTreeClassifier(random_state=0)\n",
    "    forest.fit(X_train, y_train)\n",
    "    DecisionBoundaryDisplay.from_estimator(forest, X[:, pair], cmap=cm, ax=ax, eps=0.5)\n",
    "    plt.scatter(X[:, pair[0]], X[:, pair[1]], c=y, cmap=cm_bright, edgecolors=\"k\")\n",
    "    \n",
    "    print(pair)\n",
    "    ax.set_xlim(x_min, x_max)\n",
    "    ax.set_ylim(y_min, y_max)\n",
    "#     ax.set_xlabel(feature_names[0])\n",
    "#     ax.set_ylabel(feature_names[1])\n",
    "    ax.set_xlabel(feature_names[pair[0]])\n",
    "    ax.set_ylabel(feature_names[pair[1]])\n",
    "plt.show()"
   ]
  }
 ],
 "metadata": {
  "kernelspec": {
   "display_name": "Python 3 (ipykernel)",
   "language": "python",
   "name": "python3"
  },
  "language_info": {
   "codemirror_mode": {
    "name": "ipython",
    "version": 3
   },
   "file_extension": ".py",
   "mimetype": "text/x-python",
   "name": "python",
   "nbconvert_exporter": "python",
   "pygments_lexer": "ipython3",
   "version": "3.9.7"
  }
 },
 "nbformat": 4,
 "nbformat_minor": 5
}
